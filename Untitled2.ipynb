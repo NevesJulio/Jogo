{
  "nbformat": 4,
  "nbformat_minor": 0,
  "metadata": {
    "colab": {
      "provenance": [],
      "authorship_tag": "ABX9TyOqNg6hFrR4ZNiNNEy5b3jb",
      "include_colab_link": true
    },
    "kernelspec": {
      "name": "python3",
      "display_name": "Python 3"
    },
    "language_info": {
      "name": "python"
    }
  },
  "cells": [
    {
      "cell_type": "markdown",
      "metadata": {
        "id": "view-in-github",
        "colab_type": "text"
      },
      "source": [
        "<a href=\"https://colab.research.google.com/github/NevesJulio/Jogo/blob/main/Untitled2.ipynb\" target=\"_parent\"><img src=\"https://colab.research.google.com/assets/colab-badge.svg\" alt=\"Open In Colab\"/></a>"
      ]
    },
    {
      "cell_type": "code",
      "source": [
        "import numpy as np"
      ],
      "metadata": {
        "id": "a-k_boAYlJyo"
      },
      "execution_count": 3,
      "outputs": []
    },
    {
      "cell_type": "code",
      "execution_count": 33,
      "metadata": {
        "id": "I_OP9Z08k42x"
      },
      "outputs": [],
      "source": [
        "board = np.array([[' ', ' ', ' ', ' ',' '],[' ', ' ', ' ', ' ',' '],[' ', ' ', '', ' ',' '], [' ', ' ', ' ', ' ',' '],[' ', ' ', ' ', ' ',' '], [' ', ' ', ' ', ' ',' '], [' ', ' ', ' ', ' ',' '], [' ', ' ', ' ', ' ',' '], [' ', ' ', ' ', ' ',' '], [' ', ' ', ' ', ' ',' ']])\n"
      ]
    },
    {
      "cell_type": "code",
      "source": [
        "#def Clean_Board():\n",
        "#  return np.array([[' ', ' ', ' ', ' ',' '],[' ', ' ', ' ', ' ',' '],[' ', ' ', ' ', ' ',' '], [' ', ' ', ' ', ' ',' '],[' ', ' ', ' ', ' ',' '], [' ', ' ', ' ', ' ',' '], [' ', ' ', ' ', ' ',' '], [' ', ' ', ' ', ' ',' '], [' ', ' ', ' ', ' ',' '], [' ', ' ', ' ', ' ',' ']])"
      ],
      "metadata": {
        "id": "tqanMi-Hu00-"
      },
      "execution_count": 67,
      "outputs": []
    },
    {
      "cell_type": "code",
      "source": [
        "def Clean_Board():\n",
        "  board =  np.array([[' ', ' ', ' ', ' ',' ',' ',' ',' ',' ',' ',' ',],[' ', ' ', ' ', ' ',' ',' ',' ',' ',' ',' ',' ',],[' ', ' ', ' ', ' ',' ',' ',' ',' ',' ',' ',' ',],[' ', ' ', ' ', ' ',' ',' ',' ',' ',' ',' ',' ',],[' ', ' ', ' ', ' ',' ',' ',' ',' ',' ',' ',' ',], [' ', ' ', ' ', ' ',' ',' ',' ',' ',' ',' ',' ',], [' ', ' ', ' ', ' ',' ',' ',' ',' ',' ',' ',' ',], [' ', ' ', ' ', ' ',' ',' ',' ',' ',' ',' ',' ',], [' ', ' ', ' ', ' ',' ',' ',' ',' ',' ',' ',' ',], [' ', ' ', ' ', ' ',' ',' ',' ',' ',' ',' ',' ',], [' ', ' ', ' ', ' ',' ',' ',' ',' ',' ',' ',' ',]])\n",
        "\n",
        "  for i in range(11):\n",
        "    for j in range(11):\n",
        "\n",
        "      if j == 7:\n",
        "        board[i][j] = '|'\n",
        "      if j == 3:\n",
        "        board[i][j] = '|'\n",
        "      if i == 3:\n",
        "        board[i][j] = '-'\n",
        "      if i == 7:\n",
        "        board[i][j] = '-'\n",
        "  return board"
      ],
      "metadata": {
        "id": "9o7Zahtfvm0W"
      },
      "execution_count": 196,
      "outputs": []
    },
    {
      "cell_type": "code",
      "source": [
        "position = {\n",
        "  '1': [1, 1],\n",
        "  '2': [1, 5],\n",
        "  '3': [1, 9], \n",
        "  '4': [5, 1],\n",
        "  '5': [5, 5],\n",
        "  '6': [5, 9],\n",
        "  '7': [9, 1],\n",
        "  '8': [9, 5],\n",
        "  '9': [9, 9],\n",
        "}\n",
        "\n"
      ],
      "metadata": {
        "id": "ECCrClDwGNoY"
      },
      "execution_count": 195,
      "outputs": []
    },
    {
      "cell_type": "code",
      "source": [
        "def NewBoard(UpdateBoard, NewNumber, player):\n",
        "  position = {\n",
        "  '1': [1, 1],\n",
        "  '2': [1, 5],\n",
        "  '3': [1, 9], \n",
        "  '4': [5, 1],\n",
        "  '5': [5, 5],\n",
        "  '6': [5, 9],\n",
        "  '7': [9, 1],\n",
        "  '8': [9, 5],\n",
        "  '9': [9, 9],\n",
        "  }\n",
        "  i, j = position[NewNumber]\n",
        "  UpdateBoard[i, j] = player\n",
        "  return UpdateBoard\n"
      ],
      "metadata": {
        "id": "2qYGaA8nFrMg"
      },
      "execution_count": 220,
      "outputs": []
    },
    {
      "cell_type": "code",
      "source": [
        "def Number_Board():\n",
        "  board =  np.array([[' ', ' ', ' ', ' ',' ',' ',' ',' ',' ',' ',' ',],[' ', ' ', ' ', ' ',' ',' ',' ',' ',' ',' ',' ',],[' ', ' ', ' ', ' ',' ',' ',' ',' ',' ',' ',' ',],[' ', ' ', ' ', ' ',' ',' ',' ',' ',' ',' ',' ',],[' ', ' ', ' ', ' ',' ',' ',' ',' ',' ',' ',' ',], [' ', ' ', ' ', ' ',' ',' ',' ',' ',' ',' ',' ',], [' ', ' ', ' ', ' ',' ',' ',' ',' ',' ',' ',' ',], [' ', ' ', ' ', ' ',' ',' ',' ',' ',' ',' ',' ',], [' ', ' ', ' ', ' ',' ',' ',' ',' ',' ',' ',' ',], [' ', ' ', ' ', ' ',' ',' ',' ',' ',' ',' ',' ',], [' ', ' ', ' ', ' ',' ',' ',' ',' ',' ',' ',' ',]])\n",
        "\n",
        "  for i in range(11):\n",
        "    for j in range(11):\n",
        "\n",
        "      if j == 7:\n",
        "        board[i][j] = '|'\n",
        "      if j == 3:\n",
        "        board[i][j] = '|'\n",
        "      if i == 3:\n",
        "        board[i][j] = '-'\n",
        "      if i == 7:\n",
        "        board[i][j] = '-'\n",
        "    board[1][1] = 1\n",
        "    board[1][5] = 2\n",
        "    board[1][9] = 3\n",
        "    board[5][1] = 4\n",
        "    board[5][5] = 5\n",
        "    board[5][9] = 6\n",
        "    board[9][1] = 7\n",
        "    board[9][5] = 8\n",
        "    board[9][9] = 9\n",
        "  return board"
      ],
      "metadata": {
        "id": "Dr3SfJH4-Hca"
      },
      "execution_count": 221,
      "outputs": []
    },
    {
      "cell_type": "code",
      "source": [
        "CleanBoard = Clean_Board()\n",
        "NumberBoard = Number_Board()"
      ],
      "metadata": {
        "id": "58g_z8AEvJ4W"
      },
      "execution_count": 222,
      "outputs": []
    },
    {
      "cell_type": "code",
      "source": [
        "def Tela_Numerada():\n",
        "  for i in range(11):\n",
        "    print(*board[i][:])\n",
        "    "
      ],
      "metadata": {
        "id": "rpM8U7CqqpF_"
      },
      "execution_count": 237,
      "outputs": []
    },
    {
      "cell_type": "code",
      "source": [
        "def Tela_Atualizada(board):\n",
        "  for i in range(11):\n",
        "    print(*board[i][:])"
      ],
      "metadata": {
        "id": "vy-YCUCDcxu8"
      },
      "execution_count": 236,
      "outputs": []
    },
    {
      "cell_type": "code",
      "source": [
        "# def Continue_Game():\n",
        "#   ContinueGame = input('Deseja continuar o jogo? ')\n",
        "#   while ContinueGame not in ['y','n']:\n",
        "#     print('Não entendi, digite y ou n ')\n",
        "#     ContinueGame = input('Deseja continuar o jogo? ')\n",
        "#   if ContinueGame == 'y':\n",
        "#     return 1\n",
        "#   if ContinueGame == 'n':\n",
        "#     return 0"
      ],
      "metadata": {
        "id": "RzxSPtx1_1Si"
      },
      "execution_count": 223,
      "outputs": []
    },
    {
      "cell_type": "code",
      "source": [
        "def Continue_Game(board):\n",
        "  if ((board[1][1] == board[1][5] == board[1][9]) and (board[1][1] == 'X')) or ((board[5][1] == board[5][5] == board[5][9]) and (board[5][1] == 'X')) or ((board[9][1] == board[9][5] == board[9][9]) and (board[9][1] == 'X')):\n",
        "    print('X Ganhou')\n",
        "    return 0\n",
        "  elif ((board[1][1] == board[1][5] == board[1][9]) and (board[1][1] == 'O')) or ((board[5][1] == board[5][5] == board[5][9]) and (board[5][1] == 'O')) or ((board[9][1] == board[9][5] == board[9][9]) and (board[9][1] == 'O')):\n",
        "    print('O Ganhou')\n",
        "    return 0\n",
        "  elif ((board[1][1] == board[5][5] == board[9][9]) and (board[1][1] == 'O')) or ((board[1][9] == board[5][5] == board[9][1]) and (board[9][1] == 'O')) or ((board[9][1] == board[9][5] == board[9][9]) and (board[9][1] == 'O')):\n",
        "    print('O Ganhou')\n",
        "    return 0\n",
        "  elif ((board[1][1] == board[5][5] == board[9][9]) and (board[1][1] == 'X')) or ((board[1][9] == board[5][5] == board[9][1]) and (board[9][1] == 'X')) or ((board[9][1] == board[9][5] == board[9][9]) and (board[9][1] == 'X')):\n",
        "    print('O Ganhou')\n",
        "    return 0\n",
        "  elif ((board[1][1] == board[5][1] == board[9][1]) and (board[1][1] == 'O')) or ((board[1][5] == board[5][5] == board[9][5]) and (board[1][5] == 'O')) or ((board[1][9] == board[5][9] == board[9][9]) and (board[1][9] == 'O')):\n",
        "    print('O Ganhou')\n",
        "    return 0\n",
        "  elif ((board[1][1] == board[5][1] == board[9][1]) and (board[1][1] == 'X')) or ((board[1][5] == board[5][5] == board[9][5]) and (board[1][5] == 'X')) or ((board[1][9] == board[5][9] == board[9][9]) and (board[1][9] == 'X')):\n",
        "    print('O Ganhou')\n",
        "    return 0\n",
        "  else:\n",
        "    return 1\n"
      ],
      "metadata": {
        "id": "PxOe6ZaTesMC"
      },
      "execution_count": 244,
      "outputs": []
    },
    {
      "cell_type": "code",
      "source": [
        "def Escolha_Personagem():\n",
        "  escolha = input('Você quer ser o X ou o O?')\n",
        "  while escolha not in ['X','O']:\n",
        "    print('Escolha uma das opções a seguir: ')\n",
        "    escolha = input('Você quer ser o X ou o O? ')\n",
        "  if escolha == 'X':\n",
        "    player_1 = 'X'\n",
        "    player_2 = 'O'\n",
        "  else:\n",
        "    player_1 = 'O'\n",
        "    player_2 = 'X'\n",
        "  return [player_1, player_2]"
      ],
      "metadata": {
        "id": "pxbX8h8RDYmx"
      },
      "execution_count": 245,
      "outputs": []
    },
    {
      "cell_type": "code",
      "source": [
        "def EscolhaNumero():\n",
        "  escolha = '0'\n",
        "  while escolha not in ['1', '2', '3', '4', '5', '6', '7', '8', '9']:\n",
        "    escolha = input('Esocolha uma posição de 1 a 9 ')\n",
        "  return escolha"
      ],
      "metadata": {
        "id": "QrvypVlCJdsv"
      },
      "execution_count": 246,
      "outputs": []
    },
    {
      "cell_type": "code",
      "source": [
        "def Game():\n",
        "  UpdateBoard = Clean_Board()\n",
        "  contador = 0\n",
        "  Tela_Numerada()\n",
        "  player_1, player_2 = Escolha_Personagem() \n",
        "  ContinueGame = 1\n",
        "\n",
        "  while ContinueGame:\n",
        "\n",
        "    if contador%2 == 0:\n",
        "      player = player_1\n",
        "    else:\n",
        "      player = player_2\n",
        "\n",
        "    NewNumber = EscolhaNumero()\n",
        "    UpdateBoard = NewBoard(UpdateBoard, NewNumber, player)\n",
        "    print('Tabela Atual:')\n",
        "    Tela_Atualizada(UpdateBoard)\n",
        "    ContinueGame = Continue_Game(UpdateBoard)\n",
        "    contador +=1"
      ],
      "metadata": {
        "id": "dgB6NC3L5VLc"
      },
      "execution_count": 249,
      "outputs": []
    },
    {
      "cell_type": "code",
      "source": [
        "Game()"
      ],
      "metadata": {
        "colab": {
          "base_uri": "https://localhost:8080/"
        },
        "id": "Ao8dGRN21LCN",
        "outputId": "3e778aff-0e24-4b44-cc45-f2bc164043b3"
      },
      "execution_count": 250,
      "outputs": [
        {
          "output_type": "stream",
          "name": "stdout",
          "text": [
            "      |       |      \n",
            "  1   |   2   |   3  \n",
            "      |       |      \n",
            "- - - - - - - - - - -\n",
            "      |       |      \n",
            "  4   |   5   |   6  \n",
            "      |       |      \n",
            "- - - - - - - - - - -\n",
            "      |       |      \n",
            "  7   |   8   |   9  \n",
            "      |       |      \n",
            "Você quer ser o X ou o O?X\n",
            "Esocolha uma posição de 1 a 9 5\n",
            "Tabela Atual:\n",
            "      |       |      \n",
            "      |       |      \n",
            "      |       |      \n",
            "- - - - - - - - - - -\n",
            "      |       |      \n",
            "      |   X   |      \n",
            "      |       |      \n",
            "- - - - - - - - - - -\n",
            "      |       |      \n",
            "      |       |      \n",
            "      |       |      \n",
            "Esocolha uma posição de 1 a 9 1\n",
            "Tabela Atual:\n",
            "      |       |      \n",
            "  O   |       |      \n",
            "      |       |      \n",
            "- - - - - - - - - - -\n",
            "      |       |      \n",
            "      |   X   |      \n",
            "      |       |      \n",
            "- - - - - - - - - - -\n",
            "      |       |      \n",
            "      |       |      \n",
            "      |       |      \n",
            "Esocolha uma posição de 1 a 9 4\n",
            "Tabela Atual:\n",
            "      |       |      \n",
            "  O   |       |      \n",
            "      |       |      \n",
            "- - - - - - - - - - -\n",
            "      |       |      \n",
            "  X   |   X   |      \n",
            "      |       |      \n",
            "- - - - - - - - - - -\n",
            "      |       |      \n",
            "      |       |      \n",
            "      |       |      \n",
            "Esocolha uma posição de 1 a 9 2\n",
            "Tabela Atual:\n",
            "      |       |      \n",
            "  O   |   O   |      \n",
            "      |       |      \n",
            "- - - - - - - - - - -\n",
            "      |       |      \n",
            "  X   |   X   |      \n",
            "      |       |      \n",
            "- - - - - - - - - - -\n",
            "      |       |      \n",
            "      |       |      \n",
            "      |       |      \n",
            "Esocolha uma posição de 1 a 9 6\n",
            "Tabela Atual:\n",
            "      |       |      \n",
            "  O   |   O   |      \n",
            "      |       |      \n",
            "- - - - - - - - - - -\n",
            "      |       |      \n",
            "  X   |   X   |   X  \n",
            "      |       |      \n",
            "- - - - - - - - - - -\n",
            "      |       |      \n",
            "      |       |      \n",
            "      |       |      \n",
            "X Ganhou\n"
          ]
        }
      ]
    }
  ]
}